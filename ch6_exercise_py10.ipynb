{
  "nbformat": 4,
  "nbformat_minor": 0,
  "metadata": {
    "colab": {
      "name": "ch6_exercise_py10.ipynb",
      "provenance": [],
      "collapsed_sections": [],
      "include_colab_link": true
    },
    "kernelspec": {
      "name": "python3",
      "display_name": "Python 3"
    }
  },
  "cells": [
    {
      "cell_type": "markdown",
      "metadata": {
        "id": "view-in-github",
        "colab_type": "text"
      },
      "source": [
        "<a href=\"https://colab.research.google.com/github/minseongkimpy/py10/blob/master/ch6_exercise_py10.ipynb\" target=\"_parent\"><img src=\"https://colab.research.google.com/assets/colab-badge.svg\" alt=\"Open In Colab\"/></a>"
      ]
    },
    {
      "cell_type": "markdown",
      "metadata": {
        "id": "1mw6PP6kVpZb",
        "colab_type": "text"
      },
      "source": [
        "###ch6_exercises,ipynb"
      ]
    },
    {
      "cell_type": "markdown",
      "metadata": {
        "id": "6uJoahCjQdgn",
        "colab_type": "text"
      },
      "source": [
        "###Q1. 간단한 구구단 출력 프로그램 만들기\n"
      ]
    },
    {
      "cell_type": "code",
      "metadata": {
        "id": "LADrCvcnQ7A-",
        "colab_type": "code",
        "outputId": "7095246c-81d9-4c1f-a8e4-ac062650de64",
        "colab": {
          "base_uri": "https://localhost:8080/",
          "height": 52
        }
      },
      "source": [
        "#[Code-1]\n",
        "n = int(input(\"몇 단을 표시할 것입니까?\"))\n",
        "\n",
        "def GuGu0(n):\n",
        "    result = []\n",
        "    result.append(n * 1)\n",
        "    result.append(n * 2)\n",
        "    result.append(n * 3)\n",
        "    result.append(n * 4)\n",
        "    result.append(n * 5)\n",
        "    result.append(n * 6)\n",
        "    result.append(n * 7)\n",
        "    result.append(n * 8)\n",
        "    result.append(n * 9)\n",
        "    return result\n",
        "\n",
        "\n",
        "print(GuGu0(n))\n"
      ],
      "execution_count": 1,
      "outputs": [
        {
          "output_type": "stream",
          "text": [
            "몇 단을 표시할 것입니까?3\n",
            "[3, 6, 9, 12, 15, 18, 21, 24, 27]\n"
          ],
          "name": "stdout"
        }
      ]
    },
    {
      "cell_type": "code",
      "metadata": {
        "id": "qoZWECR_RhKi",
        "colab_type": "code",
        "outputId": "1ada8e40-d730-46f0-b073-7e2855adcac7",
        "colab": {
          "base_uri": "https://localhost:8080/",
          "height": 52
        }
      },
      "source": [
        "#[Code-2]\n",
        "n = int(input(\"몇 단을 표시할 것입니까?\"))\n",
        "def GuGu(n):\n",
        "    result = []\n",
        "    i = 1\n",
        "    while i < 10:\n",
        "        result.append(n * i)\n",
        "        i = i + 1\n",
        "    return result\n",
        "print(GuGu0(n))"
      ],
      "execution_count": 3,
      "outputs": [
        {
          "output_type": "stream",
          "text": [
            "몇 단을 표시할 것입니까?10\n",
            "[10, 20, 30, 40, 50, 60, 70, 80, 90]\n"
          ],
          "name": "stdout"
        }
      ]
    },
    {
      "cell_type": "markdown",
      "metadata": {
        "id": "Yyhvsq98RqUI",
        "colab_type": "text"
      },
      "source": [
        "###Q2. 3과 5의 배수 합하기"
      ]
    },
    {
      "cell_type": "code",
      "metadata": {
        "id": "_q4YmNd8R435",
        "colab_type": "code",
        "outputId": "234b1258-bc67-417d-ecb4-77eee3645cc6",
        "colab": {
          "base_uri": "https://localhost:8080/",
          "height": 35
        }
      },
      "source": [
        "result = 0\n",
        "for n in range(1, 1000):\n",
        "    if n % 3 == 0 or n % 5 == 0:\n",
        "        result += n\n",
        "print(result)"
      ],
      "execution_count": 0,
      "outputs": [
        {
          "output_type": "stream",
          "text": [
            "233168\n"
          ],
          "name": "stdout"
        }
      ]
    },
    {
      "cell_type": "markdown",
      "metadata": {
        "id": "XnKNs2U8S8Vf",
        "colab_type": "text"
      },
      "source": [
        "###Q3. 게시판 페이징하기"
      ]
    },
    {
      "cell_type": "code",
      "metadata": {
        "id": "Ggt_0x7ETA23",
        "colab_type": "code",
        "outputId": "8946bc42-7cc1-4c3a-bef4-1f1b7897bc26",
        "colab": {
          "base_uri": "https://localhost:8080/",
          "height": 88
        }
      },
      "source": [
        "def getTotalPage(m, n):\n",
        "    if m % n == 0:\n",
        "        return m // n\n",
        "    else:\n",
        "        return m // n + 1\n",
        "\n",
        "print(getTotalPage(5, 10))\n",
        "print(getTotalPage(15, 10))\n",
        "print(getTotalPage(25, 10))\n",
        "print(getTotalPage(30, 10))\n",
        "\n"
      ],
      "execution_count": 0,
      "outputs": [
        {
          "output_type": "stream",
          "text": [
            "1\n",
            "2\n",
            "3\n",
            "3\n"
          ],
          "name": "stdout"
        }
      ]
    },
    {
      "cell_type": "markdown",
      "metadata": {
        "id": "V6KFO_fRV5fc",
        "colab_type": "text"
      },
      "source": [
        "###Q4. 다음과 같이 간단한 메모장 만들기 코드를 작성해보자\n",
        "\n",
        "\n"
      ]
    },
    {
      "cell_type": "code",
      "metadata": {
        "id": "4ohQlHMNXoIU",
        "colab_type": "code",
        "outputId": "3fdd6b0d-fda3-4596-f917-ec1dc5fe3645",
        "colab": {
          "base_uri": "https://localhost:8080/",
          "height": 35
        }
      },
      "source": [
        "ls # 현재 폴더 확인\n"
      ],
      "execution_count": 0,
      "outputs": [
        {
          "output_type": "stream",
          "text": [
            "memo.py  \u001b[0m\u001b[01;34msample_data\u001b[0m/\n"
          ],
          "name": "stdout"
        }
      ]
    },
    {
      "cell_type": "code",
      "metadata": {
        "id": "ILtToSfBYfAz",
        "colab_type": "code",
        "colab": {}
      },
      "source": [
        "mkdir 'doit' #'doit'이라는 폴더 생성"
      ],
      "execution_count": 0,
      "outputs": []
    },
    {
      "cell_type": "code",
      "metadata": {
        "id": "GA600HF2YpHq",
        "colab_type": "code",
        "colab": {}
      },
      "source": [
        "mv memo.py ./doit/ #'memo.py'파일을 'doit'폴더로 이동"
      ],
      "execution_count": 0,
      "outputs": []
    },
    {
      "cell_type": "code",
      "metadata": {
        "id": "d7ypwuywZA5d",
        "colab_type": "code",
        "outputId": "06379f0f-89b2-4b34-ed80-1dcb45442ade",
        "colab": {
          "base_uri": "https://localhost:8080/",
          "height": 35
        }
      },
      "source": [
        "cd doit"
      ],
      "execution_count": 0,
      "outputs": [
        {
          "output_type": "stream",
          "text": [
            "/content/doit\n"
          ],
          "name": "stdout"
        }
      ]
    },
    {
      "cell_type": "code",
      "metadata": {
        "id": "NS1c7iTBZQGN",
        "colab_type": "code",
        "outputId": "d36eaee7-2a80-458b-b98e-9c78a8a61b60",
        "colab": {
          "base_uri": "https://localhost:8080/",
          "height": 35
        }
      },
      "source": [
        "pwd"
      ],
      "execution_count": 0,
      "outputs": [
        {
          "output_type": "execute_result",
          "data": {
            "text/plain": [
              "'/content/doit'"
            ]
          },
          "metadata": {
            "tags": []
          },
          "execution_count": 5
        }
      ]
    },
    {
      "cell_type": "code",
      "metadata": {
        "id": "u8IgStehZWOt",
        "colab_type": "code",
        "outputId": "c12f9422-7764-416b-8de1-073974abb23d",
        "colab": {
          "base_uri": "https://localhost:8080/",
          "height": 35
        }
      },
      "source": [
        "!python memo.py -a \"Py coding is fun!!\" # ! 붙여서 실행"
      ],
      "execution_count": 0,
      "outputs": [
        {
          "output_type": "stream",
          "text": [
            "python3: can't open file 'memo.py': [Errno 2] No such file or directory\n"
          ],
          "name": "stdout"
        }
      ]
    },
    {
      "cell_type": "code",
      "metadata": {
        "id": "Vo3bt9L8Zjkg",
        "colab_type": "code",
        "outputId": "309c1edd-c0e1-4049-c78f-85d8fe94ad5f",
        "colab": {
          "base_uri": "https://localhost:8080/",
          "height": 53
        }
      },
      "source": [
        "!python memo.py -v"
      ],
      "execution_count": 0,
      "outputs": [
        {
          "output_type": "stream",
          "text": [
            "Py coding is fun!!\n",
            "\n"
          ],
          "name": "stdout"
        }
      ]
    },
    {
      "cell_type": "markdown",
      "metadata": {
        "id": "G21kCX1LV-U3",
        "colab_type": "text"
      },
      "source": [
        "###Q5. 탭을 4개 공백으로 바꾸기"
      ]
    },
    {
      "cell_type": "code",
      "metadata": {
        "id": "F0fCsGzDWwr1",
        "colab_type": "code",
        "outputId": "e3250521-369e-4253-c29a-7d2a30251c33",
        "colab": {
          "base_uri": "https://localhost:8080/",
          "height": 35
        }
      },
      "source": [
        "ls"
      ],
      "execution_count": 0,
      "outputs": [
        {
          "output_type": "stream",
          "text": [
            "\u001b[0m\u001b[01;34msample_data\u001b[0m/  tabto4.py\n"
          ],
          "name": "stdout"
        }
      ]
    },
    {
      "cell_type": "code",
      "metadata": {
        "id": "ngq6JzCqXbu3",
        "colab_type": "code",
        "colab": {}
      },
      "source": [
        "mkdir 'doit'"
      ],
      "execution_count": 0,
      "outputs": []
    },
    {
      "cell_type": "code",
      "metadata": {
        "id": "Zvmh1QZ5Xg09",
        "colab_type": "code",
        "outputId": "8a7fc8c5-a636-4622-b534-5db508bfddb1",
        "colab": {
          "base_uri": "https://localhost:8080/",
          "height": 35
        }
      },
      "source": [
        "mv tabto4.py ./doit/ "
      ],
      "execution_count": 0,
      "outputs": [
        {
          "output_type": "stream",
          "text": [
            "mv: cannot stat 'tabto4.py': No such file or directory\n"
          ],
          "name": "stdout"
        }
      ]
    },
    {
      "cell_type": "code",
      "metadata": {
        "id": "yT9dquY3XtbL",
        "colab_type": "code",
        "outputId": "7ec32d6c-398d-485d-b497-4ff7a7b0dff0",
        "colab": {
          "base_uri": "https://localhost:8080/",
          "height": 35
        }
      },
      "source": [
        "cd doit"
      ],
      "execution_count": 0,
      "outputs": [
        {
          "output_type": "stream",
          "text": [
            "/content/doit\n"
          ],
          "name": "stdout"
        }
      ]
    },
    {
      "cell_type": "code",
      "metadata": {
        "id": "gXr4P14hXvLM",
        "colab_type": "code",
        "outputId": "fece67d2-1f61-4e90-e636-a95d7e0a3860",
        "colab": {
          "base_uri": "https://localhost:8080/",
          "height": 35
        }
      },
      "source": [
        "pwd"
      ],
      "execution_count": 0,
      "outputs": [
        {
          "output_type": "execute_result",
          "data": {
            "text/plain": [
              "'/content/doit'"
            ]
          },
          "metadata": {
            "tags": []
          },
          "execution_count": 21
        }
      ]
    },
    {
      "cell_type": "code",
      "metadata": {
        "id": "eUf5QlHRX_F8",
        "colab_type": "code",
        "colab": {}
      },
      "source": [
        "!python tabto4.py a.txt b.txt"
      ],
      "execution_count": 0,
      "outputs": []
    },
    {
      "cell_type": "markdown",
      "metadata": {
        "id": "j2FitTnaf5Bb",
        "colab_type": "text"
      },
      "source": [
        "###Q6. 폴더 내의 특정 파일 검색"
      ]
    },
    {
      "cell_type": "code",
      "metadata": {
        "id": "NU2Y6TbtgXK-",
        "colab_type": "code",
        "outputId": "9128bcc1-29a0-471d-e9ba-cf5490df12a9",
        "colab": {
          "base_uri": "https://localhost:8080/",
          "height": 55
        }
      },
      "source": [
        "\n",
        "'''\n",
        "# ./ch06/sub_dir_search.py\n",
        "import os\n",
        "\n",
        "def search(dirname):\n",
        "    try:\n",
        "        filenames = os.listdir(dirname)\n",
        "        for filename in filenames:\n",
        "            full_filename = os.path.join(dirname, filename)\n",
        "            if os.path.isdir(full_filename):\n",
        "                search(full_filename)\n",
        "            else:\n",
        "                ext = os.path.splitext(full_filename)[-1]\n",
        "                if ext == '.py': \n",
        "                    print(full_filename)\n",
        "    except PermissionError:\n",
        "        pass\n",
        "\n",
        "search(\"./\")\n",
        "\n",
        "'''"
      ],
      "execution_count": 0,
      "outputs": [
        {
          "output_type": "execute_result",
          "data": {
            "text/plain": [
              "'\\n# ./ch06/sub_dir_search.py\\nimport os\\n\\ndef search(dirname):\\n    try:\\n        filenames = os.listdir(dirname)\\n        for filename in filenames:\\n            full_filename = os.path.join(dirname, filename)\\n            if os.path.isdir(full_filename):\\n                search(full_filename)\\n            else:\\n                ext = os.path.splitext(full_filename)[-1]\\n                if ext == \\'.py\\': \\n                    print(full_filename)\\n    except PermissionError:\\n        pass\\n\\nsearch(\"./\")\\n\\n'"
            ]
          },
          "metadata": {
            "tags": []
          },
          "execution_count": 11
        }
      ]
    },
    {
      "cell_type": "code",
      "metadata": {
        "id": "ecwLpU6UZ5dP",
        "colab_type": "code",
        "outputId": "cc98ff6c-892f-46b7-93be-0bea579c04e3",
        "colab": {
          "base_uri": "https://localhost:8080/",
          "height": 35
        }
      },
      "source": [
        "!python sub_dir_search.py"
      ],
      "execution_count": 0,
      "outputs": [
        {
          "output_type": "stream",
          "text": [
            "python3: can't open file 'sub_dir_search.py': [Errno 2] No such file or directory\n"
          ],
          "name": "stdout"
        }
      ]
    },
    {
      "cell_type": "code",
      "metadata": {
        "id": "YTfTY2MegNFF",
        "colab_type": "code",
        "outputId": "491ef02f-7c41-492c-d048-d117e307c42b",
        "colab": {
          "base_uri": "https://localhost:8080/",
          "height": 35
        }
      },
      "source": [
        "!python sub_dir_walk.py"
      ],
      "execution_count": 0,
      "outputs": [
        {
          "output_type": "stream",
          "text": [
            "python3: can't open file 'sub_dir_walk.py': [Errno 2] No such file or directory\n"
          ],
          "name": "stdout"
        }
      ]
    }
  ]
}