{
  "nbformat": 4,
  "nbformat_minor": 0,
  "metadata": {
    "colab": {
      "name": "py010_exam19_final",
      "provenance": [],
      "collapsed_sections": [],
      "include_colab_link": true
    },
    "kernelspec": {
      "display_name": "Python 3",
      "language": "python",
      "name": "python3"
    }
  },
  "cells": [
    {
      "cell_type": "markdown",
      "metadata": {
        "id": "view-in-github",
        "colab_type": "text"
      },
      "source": [
        "<a href=\"https://colab.research.google.com/github/minseongkimpy/py10/blob/master/py010_exam19_final.ipynb\" target=\"_parent\"><img src=\"https://colab.research.google.com/assets/colab-badge.svg\" alt=\"Open In Colab\"/></a>"
      ]
    },
    {
      "cell_type": "markdown",
      "metadata": {
        "colab_type": "text",
        "id": "jXMg8Cv_Q0bM"
      },
      "source": [
        "# 기말필기시험: 파이썬 활용 (2019.12.16)\n",
        "- 문제에 배점이 표시되어 있음. (총 30점)  \n",
        "```\n",
        "\n",
        "```\n"
      ]
    },
    {
      "cell_type": "markdown",
      "metadata": {
        "id": "Rc8uW2C1MAyp",
        "colab_type": "text"
      },
      "source": [
        "***\n",
        "코드에 대한 평가는 다음 기준으로 수행한다.\n",
        "1. 적절한 함수와 로직을 이용하는 능력\n",
        "2. 변수, 함수명을 명확하게 사용해서 코딩하는 능력.\n",
        "***\n",
        "```\n",
        "\n",
        "\n",
        "\n",
        "```"
      ]
    },
    {
      "cell_type": "markdown",
      "metadata": {
        "colab_type": "text",
        "id": "0g1etKblygaj"
      },
      "source": [
        "### [1: 4점] 입력으로 들어오는 모든 수의 평균 값을 계산해 주는 함수 만들기\n",
        "\n",
        "\n",
        "- 단 입력으로 들어오는 수의 개수는 정해져 있지 않다. (*args 매개변수 이용)\n",
        "- 평균 값을 구할 때 len 함수를 사용해 보자.\n",
        "    - 함수명: addMany()\n",
        "    - 함수 사용: \n",
        "        - addMany(1,2) # 3/2 출력\n",
        "        - addMany(1,2,3,4,5)  # 15/5 출력\n",
        "        \n",
        "\n",
        "```\n",
        "\n",
        "_________________________________________________________________________________________\n",
        "\n",
        "_________________________________________________________________________________________\n",
        "\n",
        "_________________________________________________________________________________________\n",
        "\n",
        "_________________________________________________________________________________________\n",
        "\n",
        "_________________________________________________________________________________________\n",
        "\n",
        "_________________________________________________________________________________________\n",
        "\n",
        "\n",
        "\n",
        "```\n"
      ]
    },
    {
      "cell_type": "code",
      "metadata": {
        "id": "mXzDQy_eeypt",
        "colab_type": "code",
        "outputId": "b33043dc-8010-4753-90a0-0040261ecb6d",
        "colab": {
          "base_uri": "https://localhost:8080/",
          "height": 53
        }
      },
      "source": [
        "def addMany(*args):\n",
        "  sum = 0\n",
        "  for i in args:\n",
        "    sum += i\n",
        "  return sum/len(args)\n",
        "\n",
        "print(addMany(1,2))\n",
        "print(addMany(1,2,3,4,5))"
      ],
      "execution_count": 0,
      "outputs": [
        {
          "output_type": "stream",
          "text": [
            "1.5\n",
            "3.0\n"
          ],
          "name": "stdout"
        }
      ]
    },
    {
      "cell_type": "markdown",
      "metadata": {
        "colab_type": "text",
        "id": "Jq9Z7qF-LAkY"
      },
      "source": [
        "### [2: 4점] MaxLimitCalculator 클래스를 만들기\n",
        "#### 메소드 재정의(overriding)\n",
        "> 객체변수 value가 500 이상의 값은 가질 수 없도록 제한. \n",
        ">> 즉 다음과 같이 동작해야 한다.\n",
        "```\n",
        "cal = MaxLimitCalculator()\n",
        "cal.add(200) # 200 더하기\n",
        "cal.add(400) # 400 더하기\n",
        "print(cal.value) # 500 출력\n",
        "```\n",
        ">> 단 반드시 다음과 같은 Calculator 클래스를 상속해서 만들어야 한다.\n",
        "\n",
        "```\n",
        "\n",
        "class Calculator:\n",
        "    def __init__(self):\n",
        "        self.value = 0\n",
        "    def add(self, val):\n",
        "        self.value += val\n",
        "        \n",
        "\n",
        "\n",
        "\n",
        "_________________________________________________________________________________________\n",
        "\n",
        "_________________________________________________________________________________________\n",
        "\n",
        "_________________________________________________________________________________________\n",
        "\n",
        "_________________________________________________________________________________________\n",
        "\n",
        "_________________________________________________________________________________________\n",
        "\n",
        "_________________________________________________________________________________________\n",
        "\n",
        "_________________________________________________________________________________________\n",
        "\n",
        "\n",
        "```\n"
      ]
    },
    {
      "cell_type": "code",
      "metadata": {
        "id": "B7cp9ca9fE4I",
        "colab_type": "code",
        "outputId": "f3300028-fdd5-468d-816a-d2226aed53ae",
        "colab": {
          "base_uri": "https://localhost:8080/",
          "height": 35
        }
      },
      "source": [
        "class Calculator:\n",
        "    def __init__(self):\n",
        "        self.value = 0\n",
        "    def add(self, val):\n",
        "        self.value += val\n",
        "\n",
        "class MaxLimitCalculator(Calculator):\n",
        "    def add(self, val):\n",
        "      self.value += val\n",
        "      if self.value > 500:\n",
        "        self.value = 500\n",
        "\n",
        "cal = MaxLimitCalculator()\n",
        "cal.add(200)\n",
        "cal.add(400)\n",
        "print(cal.value)"
      ],
      "execution_count": 0,
      "outputs": [
        {
          "output_type": "stream",
          "text": [
            "500\n"
          ],
          "name": "stdout"
        }
      ]
    },
    {
      "cell_type": "markdown",
      "metadata": {
        "colab_type": "text",
        "id": "htP5M9O8OkSd"
      },
      "source": [
        "### [3: 4점] 게시판 페이징하기\n",
        "> 게시판 프로그램을 작성하고 있다.\n",
        ">> 그런데 게시물의 총 건수와 한 페이지에 보여 줄 게시물 수를 입력으로   \n",
        ">> 주었을 때 총 페이지 수를 출력하는 함수 (getTotalPageNew)를 만들어보자.   \n",
        ">>> 한 페이지에서 보여 줄 게시물 수가 최대 10  \n",
        "\n",
        "- 프로그램 예시\n",
        "\n",
        "```\n",
        "def getTotalPage(m, n):\n",
        "    if m % n == 0:\n",
        "        return m // n\n",
        "    else:\n",
        "        return m // n + 1\n",
        "\n",
        "print(getTotalPage(5, 10))  # 1\n",
        "print(getTotalPage(15, 10)) # 2\n",
        "print(getTotalPage(25, 10)) # 3\n",
        "print(getTotalPage(30, 10)) # 3\n",
        "```  \n",
        "> 최소한의 줄로 동작하는 코드를 만드시오.\n",
        "\n",
        "```\n",
        "_________________________________________________________________________________________\n",
        "\n",
        "_________________________________________________________________________________________\n",
        "\n",
        "_________________________________________________________________________________________\n",
        "\n",
        "_________________________________________________________________________________________\n",
        "\n",
        "```"
      ]
    },
    {
      "cell_type": "code",
      "metadata": {
        "id": "OmkvNdFJgLx2",
        "colab_type": "code",
        "outputId": "db07b9fd-ae04-492b-f139-0bcf8c9bfd35",
        "colab": {
          "base_uri": "https://localhost:8080/",
          "height": 89
        }
      },
      "source": [
        "getTotalPage =lambda m,n:m//n if m%n ==0 else m//n+1\n",
        "\n",
        "print(getTotalPage(5, 10))  # 1\n",
        "print(getTotalPage(15, 10)) # 2\n",
        "print(getTotalPage(25, 10)) # 3\n",
        "print(getTotalPage(30, 10)) # 3"
      ],
      "execution_count": 0,
      "outputs": [
        {
          "output_type": "stream",
          "text": [
            "1\n",
            "2\n",
            "3\n",
            "3\n"
          ],
          "name": "stdout"
        }
      ]
    },
    {
      "cell_type": "markdown",
      "metadata": {
        "colab_type": "text",
        "id": "dXdVRpfERIvx"
      },
      "source": [
        "### [4: 4점] 리스트 총합 구하기  \n",
        "> 다음은 A학급 학생의 점수를 나타내는 리스트이다.  \n",
        "> 다음 리스트에서 60점 이상 점수의 총합을 구하시오.  \n",
        "```\n",
        "A = [20, 55, 67, 82, 45, 33, 90, 87, 100, 25]\n",
        "```\n",
        "- 프로그램 예시\n",
        "\n",
        "```\n",
        "A = [20, 55, 67, 82, 45, 33, 90, 87, 100, 25]\n",
        "\n",
        "result = 0\n",
        "while A:                # A 리스트에 값이 있는 동안\n",
        "    mark = A.pop()      # A 리스트의 가장 마지막 항목을 하나씩 뽑아냄\n",
        "    if mark >= 60:      # 60점 이상의 점수만 더함\n",
        "        result += mark\n",
        "\n",
        "print(result)           # 결과 출력\n",
        "```  \n",
        "\n",
        "> 최소한의 줄로 동작하는 코드를 만드시오.\n",
        ">> filter 함수와 lambda 식을 사용하면 +alpha\n",
        "\n",
        "```\n",
        "_________________________________________________________________________________________\n",
        "\n",
        "_________________________________________________________________________________________\n",
        "\n",
        "_________________________________________________________________________________________\n",
        "\n",
        "_________________________________________________________________________________________\n",
        "\n",
        "```"
      ]
    },
    {
      "cell_type": "code",
      "metadata": {
        "id": "4Ux9Kad8gck5",
        "colab_type": "code",
        "outputId": "7b7572a1-7db0-4646-a950-123598005fef",
        "colab": {
          "base_uri": "https://localhost:8080/",
          "height": 35
        }
      },
      "source": [
        "A=list(filter(lambda x:x>=60,[20, 55, 67, 82, 45, 33, 90, 87, 100, 25]))\n",
        "\n",
        "print(sum(A))"
      ],
      "execution_count": 0,
      "outputs": [
        {
          "output_type": "stream",
          "text": [
            "426\n"
          ],
          "name": "stdout"
        }
      ]
    },
    {
      "cell_type": "markdown",
      "metadata": {
        "colab_type": "text",
        "id": "1DNOH7kGWiPE"
      },
      "source": [
        "### [5: 4점] 한 줄 구구단 출력\n",
        "> 사용자로부터 2~9의 숫자 중 하나를 입력받아 해당 숫자의  \n",
        "> 구구단을 한 줄로 출력하는 프로그램을 작성하시오.  \n",
        "\n",
        "- 프로그램 예시\n",
        "\n",
        "```\n",
        "user_input = input(\"구구단을 출력할 숫자를 입력하세요(2~9):\")\n",
        "dan = int(user_input)       # 입력 문자열을 숫자로 변환\n",
        "for i in range(1, 10):\n",
        "    print(i*dan, end= ' ') \n",
        "\n",
        "```\n",
        "\n",
        "> 실행 예)\n",
        "```\n",
        "구구단을 출력할 숫자를 입력하세요(2~9): 2\n",
        "2 4 6 8 10 12 14 16 18\n",
        "```\n",
        "\n",
        "> 최소한의 줄로 동작하는 코드를 만드시오.\n",
        ">> 리스트 내포를 사용해보시오.\n",
        "\n",
        "```\n",
        "_________________________________________________________________________________________\n",
        "\n",
        "_________________________________________________________________________________________\n",
        "\n",
        "_________________________________________________________________________________________\n",
        "\n",
        "_________________________________________________________________________________________\n",
        "\n",
        "```\n"
      ]
    },
    {
      "cell_type": "code",
      "metadata": {
        "id": "IhvWohG1g5jz",
        "colab_type": "code",
        "outputId": "03999c66-046a-4d17-96d3-b15c808bba13",
        "colab": {
          "base_uri": "https://localhost:8080/",
          "height": 53
        }
      },
      "source": [
        "number =int(input(\"구구단을 입력할 숫자를 입력하세요(2~9):\"))\n",
        "result=[number*x for x in range(1,10)]\n",
        "i=0\n",
        "while i<len(result):\n",
        "  print(result[i],end=' ')\n",
        "  i=i+1"
      ],
      "execution_count": 0,
      "outputs": [
        {
          "output_type": "stream",
          "text": [
            "구구단을 입력할 숫자를 입력하세요(2~9):2\n",
            "2 4 6 8 10 12 14 16 18 "
          ],
          "name": "stdout"
        }
      ]
    },
    {
      "cell_type": "markdown",
      "metadata": {
        "colab_type": "text",
        "id": "o9MO9BclZdxy"
      },
      "source": [
        "### [6: 5점] 파일을 읽어서 평균값 구하고, 결과 저장하기\n",
        "\n",
        "> 다음과 같이 총 10줄로 이루어진 sample.txt 파일이 있다.   \n",
        "> sample.txt 파일의 숫자 값을 모두 읽어 총합과 평균 값을 구한 후   \n",
        "> 평균 값을 result.txt 파일에 쓰는 프로그램을 작성하시오.  \n",
        "> sample.txt\n",
        "```\n",
        "70\n",
        "60\n",
        "55\n",
        "75\n",
        "95\n",
        "90\n",
        "80\n",
        "80\n",
        "85\n",
        "100\n",
        "```\n",
        "- 프로그램 예시\n",
        "\n",
        "```\n",
        "f = open(\"sample.txt\")\n",
        "lines = f.readlines( )  # sample.txt를 줄 단위로 모두 읽는다.\n",
        "f.close( )\n",
        "\n",
        "total = 0\n",
        "for line in lines:\n",
        "    score = int(line)  # 줄에 적힌 점수를 숫자형으로 변환한다.\n",
        "    total += score\n",
        "average = total / len(lines)\n",
        "\n",
        "f = open(\"result.txt\", \"w\")\n",
        "f.write(str(average))\n",
        "f.close()\n",
        "\n",
        "```\n",
        "> readlines( )를 read() 함수로 변경해서 코드를 만드시오.\n",
        "\n",
        "```\n",
        "_________________________________________________________________________________________\n",
        "\n",
        "_________________________________________________________________________________________\n",
        "\n",
        "_________________________________________________________________________________________\n",
        "\n",
        "_________________________________________________________________________________________\n",
        "\n",
        "_________________________________________________________________________________________\n",
        "\n",
        "```"
      ]
    },
    {
      "cell_type": "code",
      "metadata": {
        "id": "nIjTvQ7miMEq",
        "colab_type": "code",
        "colab": {}
      },
      "source": [
        "with open(\"sample.txt\",'r') as f:\n",
        "  lines = f.read()\n",
        "\n",
        "lines = lines.split(\"\\n\")\n",
        "\n",
        "total = 0\n",
        "for line in lines:\n",
        "  score = int(line)\n",
        "  total += score\n",
        "average = total/len(lines)\n",
        "\n",
        "with open(\"result.txt\",'w') as f:\n",
        "  f.write(str(average))\n",
        "\n",
        "with open(\"result.txt\",'r') as f:\n",
        "  lines2 = f.read()\n",
        "  print(lines2)"
      ],
      "execution_count": 0,
      "outputs": []
    },
    {
      "cell_type": "markdown",
      "metadata": {
        "colab_type": "text",
        "id": "N1IP08zaawBq"
      },
      "source": [
        "### [7: 5점] Duplicate Numbers\n",
        "\n",
        "> 0 ~ 9의 문자로 된 숫자를 입력받았을 때, 이 입력값이 0 ~ 9의 모든 숫자를  \n",
        "> 각각 한 번씩만 사용한 것인지 확인하는 함수를 작성하시오.  \n",
        "\n",
        "```\n",
        "입력 예시: 0123456789 01234 01234567890 6789012345 012322456789\n",
        "출력 예시: true false false true false\n",
        "```\n",
        "\n",
        "- 프로그램 예시\n",
        "\n",
        "```\n",
        "def chkDupNum(s):\n",
        "    result = []\n",
        "    for num in s:\n",
        "        if num not in result:\n",
        "            result.append(num)\n",
        "        else:\n",
        "            return False\n",
        "    return len(result) == 10\n",
        "\n",
        "# 실행 예\n",
        "print(chkDupNum(\"0123456789\"))      # True 리턴\n",
        "print(chkDupNum(\"01234\"))           # False 리턴\n",
        "print(chkDupNum(\"01234567890\"))     # False 리턴\n",
        "print(chkDupNum(\"6789012345\"))      # True 리턴\n",
        "print(chkDupNum(\"012322456789\"))    # False 리턴\n",
        "```\n",
        "\n",
        "> 위와 같이 작용하는 코드를 다른 방법으로 만드시오.\n",
        "\n",
        "```\n",
        "_________________________________________________________________________________________\n",
        "\n",
        "_________________________________________________________________________________________\n",
        "\n",
        "_________________________________________________________________________________________\n",
        "\n",
        "_________________________________________________________________________________________\n",
        "\n",
        "_________________________________________________________________________________________\n",
        "\n",
        "_________________________________________________________________________________________\n",
        "\n",
        "_________________________________________________________________________________________\n",
        "\n",
        "_________________________________________________________________________________________\n",
        "\n",
        "\n",
        "```\n"
      ]
    },
    {
      "cell_type": "code",
      "metadata": {
        "id": "_D82QoldjNbj",
        "colab_type": "code",
        "outputId": "723404c8-062f-4ebc-b1c3-e0ef961f710d",
        "colab": {
          "base_uri": "https://localhost:8080/",
          "height": 107
        }
      },
      "source": [
        "def chkDupNum(s):\n",
        "    result = []\n",
        "    for num in s:\n",
        "        if num in result:\n",
        "            return False\n",
        "        else:\n",
        "            result.append(num)\n",
        "    return len(result) == 10\n",
        "\n",
        "print(chkDupNum(\"0123456789\"))      # True 리턴\n",
        "print(chkDupNum(\"01234\"))           # False 리턴\n",
        "print(chkDupNum(\"01234567890\"))     # False 리턴\n",
        "print(chkDupNum(\"6789012345\"))      # True 리턴\n",
        "print(chkDupNum(\"012322456789\"))    # False 리턴"
      ],
      "execution_count": 0,
      "outputs": [
        {
          "output_type": "stream",
          "text": [
            "True\n",
            "False\n",
            "False\n",
            "True\n",
            "False\n"
          ],
          "name": "stdout"
        }
      ]
    },
    {
      "cell_type": "markdown",
      "metadata": {
        "id": "aefyz-CMMExW",
        "colab_type": "text"
      },
      "source": [
        "## 정답을 설명하는 파이썬 노트를 완성해서 각자의 github에 올리시오.\n",
        "- 제출기한: 12월 23일(월) 오후 11시."
      ]
    },
    {
      "cell_type": "markdown",
      "metadata": {
        "id": "IVFkw0axMf5l",
        "colab_type": "text"
      },
      "source": [
        "### 업로드 파일명: pynn_exam_final.ipynb  (pynn은 id)"
      ]
    },
    {
      "cell_type": "code",
      "metadata": {
        "id": "kLn7HRVyKF1u",
        "colab_type": "code",
        "colab": {}
      },
      "source": [
        ""
      ],
      "execution_count": 0,
      "outputs": []
    }
  ]
}